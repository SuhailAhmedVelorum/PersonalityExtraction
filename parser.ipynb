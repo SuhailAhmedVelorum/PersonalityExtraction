{
 "cells": [
  {
   "cell_type": "code",
   "execution_count": null,
   "metadata": {},
   "outputs": [],
   "source": [
    "import PyPDF2"
   ]
  },
  {
   "cell_type": "code",
   "execution_count": 33,
   "metadata": {},
   "outputs": [],
   "source": [
    "def parsePDF(location):\n",
    "    text = []\n",
    "    pdfFileObj = open(location, 'rb')\n",
    "    pdfReader = PyPDF2.PdfFileReader(pdfFileObj)\n",
    "    for i in range(pdfReader.numPages):\n",
    "        pageObj = pdfReader.getPage(0)\n",
    "        text.append(pageObj.extractText())\n",
    "    pdfFileObj.close()\n",
    "    return text"
   ]
  },
  {
   "cell_type": "code",
   "execution_count": 66,
   "metadata": {},
   "outputs": [],
   "source": [
    "def pipelinePDF(location):\n",
    "    titles = [\"Summary\", \"Summary of\", \"Summary of Experience\",\n",
    "              \"Summary of Professional Experience\", \"Summary of Professional Experience\", \"about\"]\n",
    "\n",
    "    checkNextPage = True\n",
    "    for page in parsePDF(location):\n",
    "        lines = page.split(\"\\n\")\n",
    "        lines = list(map(lambda x: x.strip(), lines))\n",
    "        summary_title = \"\"\n",
    "        title = \"\"\n",
    "        content = \"\"\n",
    "        breakdown = dict()\n",
    "        for line in lines:\n",
    "            if line.isupper():\n",
    "                for t in titles:\n",
    "                    if t.lower() in line.lower():\n",
    "                        summary_title = line\n",
    "                        break\n",
    "                if content != \"\":\n",
    "                    breakdown[title] = content\n",
    "                    content = \"\"\n",
    "                title = line\n",
    "            else:\n",
    "                if line != \"\":\n",
    "                    content+= line + \" \"\n",
    "\n",
    "    return breakdown[summary_title].strip()\n",
    "    "
   ]
  },
  {
   "cell_type": "code",
   "execution_count": 67,
   "metadata": {},
   "outputs": [
    {
     "data": {
      "text/plain": [
       "'Experienced business professional with a solid academic background and a demonstrated commitment to providing high quality customer  service; described as a \"take charge\" person with exceptional communication and human relations skills; proficient in the use of MS Office (Word, Excel, PowerPoint) with basic knowledge of PeopleSoft.'"
      ]
     },
     "execution_count": 67,
     "metadata": {},
     "output_type": "execute_result"
    }
   ],
   "source": [
    "pipelinePDF(\"C:\\\\Users\\\\nope\\\\Downloads\\\\Sample Resumes.pdf\")\n"
   ]
  }
 ],
 "metadata": {
  "kernelspec": {
   "display_name": "Python 3.9.9 64-bit",
   "language": "python",
   "name": "python3"
  },
  "language_info": {
   "codemirror_mode": {
    "name": "ipython",
    "version": 3
   },
   "file_extension": ".py",
   "mimetype": "text/x-python",
   "name": "python",
   "nbconvert_exporter": "python",
   "pygments_lexer": "ipython3",
   "version": "3.9.9"
  },
  "orig_nbformat": 4,
  "vscode": {
   "interpreter": {
    "hash": "b54b4646befe7dc8983d482aaf1884392d263f6904aff29684dd7cd752a3ef7d"
   }
  }
 },
 "nbformat": 4,
 "nbformat_minor": 2
}
